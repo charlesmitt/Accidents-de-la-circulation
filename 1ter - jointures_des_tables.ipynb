{
 "cells": [
  {
   "cell_type": "code",
   "execution_count": 1,
   "metadata": {},
   "outputs": [],
   "source": [
    "import pandas as pd\n",
    "\n",
    "df_caracteristiques = pd.read_csv(\"cleaned_files/caractéristiques_clean.csv\", sep=\";\", dtype=str)\n",
    "df_lieux = pd.read_csv(\"cleaned_files/lieux_clean.csv\", sep=\";\", dtype=str)\n",
    "df_vehicules = pd.read_csv(\"cleaned_files/véhicules_clean.csv\", sep=\";\", dtype=str)\n",
    "df_usagers = pd.read_csv(\"cleaned_files/usagers_clean.csv\", sep=\";\", dtype=str)\n",
    "\n",
    "\n",
    "victime = df_usagers.merge(df_vehicules,on=['Accident_Id','Numéro du véhicule'])\n",
    "accident = df_caracteristiques.merge(df_lieux,on = 'Accident_Id')\n",
    "df_complete = victime.merge(accident,on='Accident_Id')"
   ]
  },
  {
   "cell_type": "code",
   "execution_count": 2,
   "metadata": {},
   "outputs": [],
   "source": [
    "df_complete=df_complete.rename(columns={\"Véhicule_Id_x\":\"Véhicule_Id\"})\n",
    "df_complete=df_complete.drop(columns=[\"Véhicule_Id_y\"])"
   ]
  },
  {
   "cell_type": "markdown",
   "metadata": {},
   "source": [
    "EXPORT POUR UTILISATION GENERALE"
   ]
  },
  {
   "cell_type": "code",
   "execution_count": 3,
   "metadata": {},
   "outputs": [],
   "source": [
    "df_complete.to_csv(\"datasets/table_complete_sans_pivots.csv\", sep=\";\",index=False)"
   ]
  },
  {
   "cell_type": "code",
   "execution_count": 4,
   "metadata": {},
   "outputs": [
    {
     "data": {
      "text/plain": [
       "(657999, 55)"
      ]
     },
     "execution_count": 4,
     "metadata": {},
     "output_type": "execute_result"
    }
   ],
   "source": [
    "df_complete.shape"
   ]
  },
  {
   "cell_type": "markdown",
   "metadata": {},
   "source": [
    "ON CONSTATE QU'IL Y A DES ERREURS A CAUSE DES LIEUX MULTIPLES, CA DEDOUBLE LES VEHICULES ET EGALEMENT LES USAGERS, CE QUI POSE DES PROBLEMES D'ANALYSES, CAR UN ACCIDENT AURA x FOIS TROP DE V/U (PAR EXEMPLE L'ACCIDENT 202300053907)"
   ]
  },
  {
   "cell_type": "code",
   "execution_count": 5,
   "metadata": {},
   "outputs": [],
   "source": [
    "pd.set_option('display.max_columns',None)"
   ]
  },
  {
   "cell_type": "code",
   "execution_count": 6,
   "metadata": {},
   "outputs": [
    {
     "data": {
      "text/html": [
       "<div>\n",
       "<style scoped>\n",
       "    .dataframe tbody tr th:only-of-type {\n",
       "        vertical-align: middle;\n",
       "    }\n",
       "\n",
       "    .dataframe tbody tr th {\n",
       "        vertical-align: top;\n",
       "    }\n",
       "\n",
       "    .dataframe thead th {\n",
       "        text-align: right;\n",
       "    }\n",
       "</style>\n",
       "<table border=\"1\" class=\"dataframe\">\n",
       "  <thead>\n",
       "    <tr style=\"text-align: right;\">\n",
       "      <th></th>\n",
       "      <th>Nom de la route</th>\n",
       "      <th>Régime de circulation</th>\n",
       "      <th>Véhicule_Id</th>\n",
       "      <th>Catégorie du véhicule</th>\n",
       "      <th>Catégorie usager</th>\n",
       "      <th>Année de naissance</th>\n",
       "      <th>Sexe</th>\n",
       "    </tr>\n",
       "  </thead>\n",
       "  <tbody>\n",
       "    <tr>\n",
       "      <th>655231</th>\n",
       "      <td>BOULEVARD DE BERCY</td>\n",
       "      <td>2 - Bidirectionnelle</td>\n",
       "      <td>155 584 911</td>\n",
       "      <td>07 - VL seul</td>\n",
       "      <td>1 - Conducteur</td>\n",
       "      <td>1936</td>\n",
       "      <td>1 - Masculin</td>\n",
       "    </tr>\n",
       "    <tr>\n",
       "      <th>655232</th>\n",
       "      <td>NaN</td>\n",
       "      <td>2 - Bidirectionnelle</td>\n",
       "      <td>155 584 911</td>\n",
       "      <td>07 - VL seul</td>\n",
       "      <td>1 - Conducteur</td>\n",
       "      <td>1936</td>\n",
       "      <td>1 - Masculin</td>\n",
       "    </tr>\n",
       "    <tr>\n",
       "      <th>655233</th>\n",
       "      <td>BOULEVARD DE BERCY</td>\n",
       "      <td>2 - Bidirectionnelle</td>\n",
       "      <td>155 584 911</td>\n",
       "      <td>07 - VL seul</td>\n",
       "      <td>2 - Passager</td>\n",
       "      <td>1940</td>\n",
       "      <td>1 - Masculin</td>\n",
       "    </tr>\n",
       "    <tr>\n",
       "      <th>655234</th>\n",
       "      <td>NaN</td>\n",
       "      <td>2 - Bidirectionnelle</td>\n",
       "      <td>155 584 911</td>\n",
       "      <td>07 - VL seul</td>\n",
       "      <td>2 - Passager</td>\n",
       "      <td>1940</td>\n",
       "      <td>1 - Masculin</td>\n",
       "    </tr>\n",
       "  </tbody>\n",
       "</table>\n",
       "</div>"
      ],
      "text/plain": [
       "           Nom de la route Régime de circulation  Véhicule_Id  \\\n",
       "655231  BOULEVARD DE BERCY  2 - Bidirectionnelle  155 584 911   \n",
       "655232                 NaN  2 - Bidirectionnelle  155 584 911   \n",
       "655233  BOULEVARD DE BERCY  2 - Bidirectionnelle  155 584 911   \n",
       "655234                 NaN  2 - Bidirectionnelle  155 584 911   \n",
       "\n",
       "       Catégorie du véhicule Catégorie usager Année de naissance          Sexe  \n",
       "655231          07 - VL seul   1 - Conducteur               1936  1 - Masculin  \n",
       "655232          07 - VL seul   1 - Conducteur               1936  1 - Masculin  \n",
       "655233          07 - VL seul     2 - Passager               1940  1 - Masculin  \n",
       "655234          07 - VL seul     2 - Passager               1940  1 - Masculin  "
      ]
     },
     "execution_count": 6,
     "metadata": {},
     "output_type": "execute_result"
    }
   ],
   "source": [
    "df_complete[df_complete['Accident_Id']==\"202300053907\"][['Nom de la route','Régime de circulation','Véhicule_Id','Catégorie du véhicule','Catégorie usager','Année de naissance','Sexe']]"
   ]
  },
  {
   "cell_type": "markdown",
   "metadata": {},
   "source": [
    "IL FAUT DONC REGLER CE PROBLEME AVANT DE POUVOIR UTILISER LE DATASET"
   ]
  }
 ],
 "metadata": {
  "kernelspec": {
   "display_name": "base",
   "language": "python",
   "name": "python3"
  },
  "language_info": {
   "codemirror_mode": {
    "name": "ipython",
    "version": 3
   },
   "file_extension": ".py",
   "mimetype": "text/x-python",
   "name": "python",
   "nbconvert_exporter": "python",
   "pygments_lexer": "ipython3",
   "version": "3.12.4"
  }
 },
 "nbformat": 4,
 "nbformat_minor": 2
}
