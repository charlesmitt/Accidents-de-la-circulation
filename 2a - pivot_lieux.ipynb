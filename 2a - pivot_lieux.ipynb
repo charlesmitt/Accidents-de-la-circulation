{
 "cells": [
  {
   "cell_type": "code",
   "execution_count": 1,
   "metadata": {},
   "outputs": [],
   "source": [
    "import pandas as pd\n",
    "\n",
    "df_lieux = pd.read_csv(\"cleaned_files/lieux_clean.csv\", sep=\";\", dtype=str)"
   ]
  },
  {
   "cell_type": "code",
   "execution_count": 2,
   "metadata": {},
   "outputs": [],
   "source": [
    "df = df_lieux\n",
    "\n",
    "# Ajouter un index par groupe ID\n",
    "df['row'] = df.groupby('Accident_Id').cumcount() + 1\n",
    "\n",
    "# Transformer les lignes en colonnes\n",
    "df_pivot = df.pivot(index='Accident_Id', columns='row', values=['Catégorie de route', 'Nom de la route', 'Régime de circulation', 'Nombre total de voies de circulation', 'Voie réservée', 'Profil', 'Tracé', 'Largeur du terre-plein central', 'Largeur de la chaussée', 'Etat de la surface', 'Infrastructure', 'Situation de l\\'accident','Vitesse maximale autorisée'])\n",
    "#                                                    \n",
    "# Aplatir l'index des colonnes\n",
    "df_pivot.columns = [f\"{col[0]}{col[1]}\" for col in df_pivot.columns]\n",
    "\n",
    "# Réinitialiser l'index\n",
    "df_pivot.reset_index(inplace=True)"
   ]
  },
  {
   "cell_type": "markdown",
   "metadata": {},
   "source": [
    "ON ENLEVE LES COLONNES INUTILES"
   ]
  },
  {
   "cell_type": "code",
   "execution_count": 3,
   "metadata": {},
   "outputs": [],
   "source": [
    "df_pivot=df_pivot.drop(['Catégorie de route2','Catégorie de route3', 'Catégorie de route4', 'Catégorie de route5',\n",
    "       'Nom de la route2', 'Nom de la route3','Nom de la route4', 'Nom de la route5','Régime de circulation2', 'Régime de circulation3',\n",
    "       'Régime de circulation4', 'Régime de circulation5','Nombre total de voies de circulation2','Nombre total de voies de circulation3',\n",
    "       'Nombre total de voies de circulation4','Nombre total de voies de circulation5','Voie réservée2', 'Voie réservée3', \n",
    "       'Voie réservée4', 'Voie réservée5','Profil2', 'Profil3', 'Profil4', 'Profil5', 'Tracé2', 'Tracé3', 'Tracé4', 'Tracé5',\n",
    "        'Largeur du terre-plein central2','Largeur du terre-plein central3', 'Largeur du terre-plein central4',\n",
    "       'Largeur du terre-plein central5','Largeur de la chaussée2', 'Largeur de la chaussée3','Largeur de la chaussée4', \n",
    "       'Largeur de la chaussée5','Etat de la surface2', 'Etat de la surface3','Etat de la surface4', 'Etat de la surface5', \n",
    "       'Infrastructure2', 'Infrastructure3', 'Infrastructure4','Infrastructure5','Situation de l\\'accident2', \n",
    "       'Situation de l\\'accident3','Situation de l\\'accident4', 'Situation de l\\'accident5','Vitesse maximale autorisée2',\n",
    "       'Vitesse maximale autorisée3', 'Vitesse maximale autorisée4','Vitesse maximale autorisée5'], axis=1)"
   ]
  },
  {
   "cell_type": "markdown",
   "metadata": {},
   "source": [
    "ON RENOMME LES COLONNES CONSERVEES POUR COLLER AU CSV DE DEPART"
   ]
  },
  {
   "cell_type": "code",
   "execution_count": 4,
   "metadata": {},
   "outputs": [],
   "source": [
    "col_names = {'Catégorie de route1':\"Catégorie de route\", 'Nom de la route1':\"Nom de la route\",\n",
    "       'Régime de circulation1':\"Régime de circulation\", 'Nombre total de voies de circulation1':\"Nombre total de voies de circulation\",\n",
    "       'Voie réservée1':\"Voie réservée\", 'Profil1':\"Profil\", 'Tracé1':\"Tracé\",\n",
    "       'Largeur du terre-plein central1':\"Largeur du terre-plein central\", 'Largeur de la chaussée1':\"Largeur de la chaussée\",\n",
    "       'Etat de la surface1':\"Etat de la surface\", 'Infrastructure1':\"Infrastructure\", 'Situation de l\\'accident1':\"Situation de l\\'accident\",\n",
    "       'Vitesse maximale autorisée1':\"Vitesse maximale autorisée\"}"
   ]
  },
  {
   "cell_type": "code",
   "execution_count": 5,
   "metadata": {},
   "outputs": [],
   "source": [
    "df_pivot= df_pivot.rename(columns=col_names)"
   ]
  },
  {
   "cell_type": "markdown",
   "metadata": {},
   "source": [
    "SAUVEGARDE DES LIEUX PIVOTES EN CSV"
   ]
  },
  {
   "cell_type": "code",
   "execution_count": 9,
   "metadata": {},
   "outputs": [],
   "source": [
    "df_pivot.to_csv(\"csv/lieux_apres_pivot.csv\", sep=\";\",index=False)"
   ]
  },
  {
   "cell_type": "markdown",
   "metadata": {},
   "source": [
    "ON FUSIONNE LES TABLES ET ON EXPORTE LA TABLE COMPLETE EN CSV POUR REUTILISATION"
   ]
  },
  {
   "cell_type": "code",
   "execution_count": 7,
   "metadata": {},
   "outputs": [],
   "source": [
    "df_caracteristiques = pd.read_csv(\"cleaned_files/caractéristiques_clean.csv\", sep=\";\", dtype=str)\n",
    "df_vehicules = pd.read_csv(\"cleaned_files/véhicules_clean.csv\", sep=\";\", dtype=str)\n",
    "df_usagers = pd.read_csv(\"cleaned_files/usagers_clean.csv\", sep=\";\", dtype=str)\n",
    "\n",
    "\n",
    "victime = df_usagers.merge(df_vehicules,on=['Accident_Id','Numéro du véhicule'])\n",
    "accident = df_caracteristiques.merge(df_pivot,on = 'Accident_Id')\n",
    "df_complete_pivot_lieux = df_usagers.merge(accident,on='Accident_Id')"
   ]
  },
  {
   "cell_type": "markdown",
   "metadata": {},
   "source": [
    "SAUVEGARDE EN CSV"
   ]
  },
  {
   "cell_type": "code",
   "execution_count": 8,
   "metadata": {},
   "outputs": [],
   "source": [
    "df_complete_pivot_lieux.to_csv(\"datasets/table_complete_avec_pivot_lieux.csv\", sep=\";\", index=False)"
   ]
  }
 ],
 "metadata": {
  "kernelspec": {
   "display_name": "base",
   "language": "python",
   "name": "python3"
  },
  "language_info": {
   "codemirror_mode": {
    "name": "ipython",
    "version": 3
   },
   "file_extension": ".py",
   "mimetype": "text/x-python",
   "name": "python",
   "nbconvert_exporter": "python",
   "pygments_lexer": "ipython3",
   "version": "3.12.4"
  }
 },
 "nbformat": 4,
 "nbformat_minor": 2
}
