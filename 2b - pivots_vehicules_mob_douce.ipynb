{
 "cells": [
  {
   "cell_type": "code",
   "execution_count": 3,
   "metadata": {},
   "outputs": [],
   "source": [
    "import pandas as pd\n",
    "\n",
    "df_usagers = pd.read_csv(\"cleaned_files/usagers_clean.csv\", sep=\";\", dtype=str)\n",
    "df_vehicules= pd.read_csv(\"cleaned_files/véhicules_clean.csv\", sep=\";\",dtype=str)\n",
    "df_caracteristiques = pd.read_csv(\"cleaned_files/caractéristiques_clean.csv\", sep=\";\", dtype=str)\n",
    "df_lieux = pd.read_csv(\"csv/lieux_apres_pivot.csv\", sep=\";\", dtype=str)"
   ]
  },
  {
   "cell_type": "code",
   "execution_count": 4,
   "metadata": {},
   "outputs": [],
   "source": [
    "\n",
    "df = df_usagers.merge(df_vehicules,on=['Accident_Id','Numéro du véhicule'])"
   ]
  },
  {
   "cell_type": "code",
   "execution_count": 5,
   "metadata": {},
   "outputs": [
    {
     "data": {
      "text/plain": [
       "(620105, 25)"
      ]
     },
     "execution_count": 5,
     "metadata": {},
     "output_type": "execute_result"
    }
   ],
   "source": [
    "df.shape"
   ]
  },
  {
   "cell_type": "markdown",
   "metadata": {},
   "source": [
    "ACCIDENTS AVEC DES VEHICULES DE MOBILITE DOUCE (EDPM / VELO / PIETONS)"
   ]
  },
  {
   "cell_type": "code",
   "execution_count": 6,
   "metadata": {},
   "outputs": [],
   "source": [
    "catv = [\"01 - Bicyclette\", \"80 - VAE\", \"50 - EDP à moteur\", \"60 - EDP sans moteur\"]\n",
    "\n",
    "# Filter DataFrame by list of user\n",
    "filtered_df = df[df['Catégorie du véhicule'].isin(catv)]\n",
    "\n",
    "s_acc = filtered_df[\"Accident_Id\"]\n",
    "\n",
    "list_acc = s_acc.to_list()\n",
    "\n",
    "accidents_mobilites_douces = df[df['Accident_Id'].isin(list_acc)]\n",
    "#print(filtered_acc_df)"
   ]
  },
  {
   "cell_type": "code",
   "execution_count": 7,
   "metadata": {},
   "outputs": [],
   "source": [
    "df = accidents_mobilites_douces\n",
    "df=df.sort_values(['Accident_Id','Catégorie du véhicule',\"Catégorie usager\"],ascending=True)\n",
    "\n",
    "# Ajouter un index par groupe ID\n",
    "df['row'] = df.groupby('Accident_Id').cumcount() + 1\n",
    "\n",
    "# Transformer les lignes en colonnes\n",
    "df_pivot_md = df.pivot(index='Accident_Id', columns='row', values=['Catégorie du véhicule','Catégorie usager', 'Gravité des blessures', 'Sexe', 'Année de naissance', 'Motif du déplacement', 'Equipement de sécurité 1'])\n",
    "\n",
    "# Aplatir l'index des colonnes\n",
    "df_pivot_md.columns = [f\"{col[0]}{col[1]}\" for col in df_pivot_md.columns]\n",
    "\n",
    "# Réinitialiser l'index\n",
    "df_pivot_md.reset_index(inplace=True)"
   ]
  },
  {
   "cell_type": "markdown",
   "metadata": {},
   "source": [
    "JOINTURE AVEC LES AUTRES INFOS"
   ]
  },
  {
   "cell_type": "code",
   "execution_count": 8,
   "metadata": {},
   "outputs": [],
   "source": [
    "accident = df_caracteristiques.merge(df_lieux,on = 'Accident_Id')\n",
    "df_complete = df_pivot_md.merge(accident,on='Accident_Id')"
   ]
  },
  {
   "cell_type": "markdown",
   "metadata": {},
   "source": [
    "A VOIR SI NECESSAIRE ? "
   ]
  },
  {
   "cell_type": "code",
   "execution_count": 9,
   "metadata": {},
   "outputs": [],
   "source": [
    "cols_a_supprimer = []"
   ]
  },
  {
   "cell_type": "markdown",
   "metadata": {},
   "source": [
    "EXPORT EN CSV"
   ]
  },
  {
   "cell_type": "code",
   "execution_count": 10,
   "metadata": {},
   "outputs": [],
   "source": [
    "df_complete.to_csv('datasets/table_complete_accidents_mobilité_douce_avec_pivot_véhicules.csv',sep=\";\",index=False)"
   ]
  },
  {
   "cell_type": "markdown",
   "metadata": {},
   "source": [
    "ACCIDENTS QUI IMPLIQUENT DES PIETONS\n"
   ]
  },
  {
   "cell_type": "code",
   "execution_count": 5,
   "metadata": {},
   "outputs": [
    {
     "data": {
      "text/plain": [
       "(619971, 48)"
      ]
     },
     "execution_count": 5,
     "metadata": {},
     "output_type": "execute_result"
    }
   ],
   "source": [
    "df.shape"
   ]
  },
  {
   "cell_type": "code",
   "execution_count": 6,
   "metadata": {},
   "outputs": [],
   "source": [
    "catu = [\"3 - Piéton\"]\n",
    "\n",
    "# Filter DataFrame by list of user\n",
    "filtered_df = df[df['catégorie_usager'].isin(catu)]\n",
    "\n",
    "s_acc = filtered_df[\"Accident_Id\"]\n",
    "\n",
    "list_acc = s_acc.to_list()\n",
    "\n",
    "accidents_piétons = df[df['Accident_Id'].isin(list_acc)]\n",
    "#print(filtered_acc_df)"
   ]
  },
  {
   "cell_type": "code",
   "execution_count": 7,
   "metadata": {},
   "outputs": [
    {
     "data": {
      "text/plain": [
       "(95822, 48)"
      ]
     },
     "execution_count": 7,
     "metadata": {},
     "output_type": "execute_result"
    }
   ],
   "source": [
    "accidents_piétons.shape"
   ]
  },
  {
   "cell_type": "code",
   "execution_count": 8,
   "metadata": {},
   "outputs": [],
   "source": [
    "accidents_piétons.to_csv(\"csv/accidents_piétons_sans_pivot.csv\", index=False)"
   ]
  },
  {
   "cell_type": "markdown",
   "metadata": {},
   "source": [
    "VELOS ET VAE (LES CYCLISTES, N'INCLUT PAS LES PIETONS HEURTES PAR DES VELOS)"
   ]
  },
  {
   "cell_type": "code",
   "execution_count": 9,
   "metadata": {},
   "outputs": [],
   "source": [
    "catv = [\"Vélo\",\"Vélo électrique\"]\n",
    "\n",
    "# Filter DataFrame by list of user\n",
    "\n",
    "filtered_df = df[df['Catégorie_véhicule'].isin(catv) & df['catégorie_usager'].isin([\"1 - Conducteur\"])]\n",
    "\n",
    "s_acc = filtered_df[\"Accident_Id\"]\n",
    "\n",
    "list_acc = s_acc.to_list()\n",
    "\n",
    "accidents_cyclistes = df[df['Accident_Id'].isin(list_acc)]\n",
    "#print(filtered_acc_df)"
   ]
  },
  {
   "cell_type": "code",
   "execution_count": 10,
   "metadata": {},
   "outputs": [
    {
     "data": {
      "text/plain": [
       "(53769, 48)"
      ]
     },
     "execution_count": 10,
     "metadata": {},
     "output_type": "execute_result"
    }
   ],
   "source": [
    "accidents_cyclistes.shape"
   ]
  },
  {
   "cell_type": "code",
   "execution_count": 11,
   "metadata": {},
   "outputs": [],
   "source": [
    "accidents_cyclistes.to_csv(\"csv/accidents_cyclistes_sans_pivot.csv\", index=False)"
   ]
  },
  {
   "cell_type": "markdown",
   "metadata": {},
   "source": [
    "ON GARDE UNE TABLE AVEC LES INFOS COMMUNES ET UNE AUTRE QU'ON VA PIVOTER\n"
   ]
  },
  {
   "cell_type": "code",
   "execution_count": 12,
   "metadata": {},
   "outputs": [],
   "source": [
    "accidents_mobilites_douces_base = accidents_mobilites_douces.drop_duplicates('Accident_Id',keep='first').iloc[:,0:16]\n",
    "accidents_mobilites_douces_vehicules = accidents_mobilites_douces.iloc[:,16:]"
   ]
  },
  {
   "cell_type": "code",
   "execution_count": 13,
   "metadata": {},
   "outputs": [],
   "source": [
    "accidents_piétons_base = accidents_piétons.drop_duplicates('Accident_Id',keep='first').iloc[:,0:16]\n",
    "accidents_piétons_vehicules = accidents_piétons.iloc[:,16:]"
   ]
  },
  {
   "cell_type": "code",
   "execution_count": 14,
   "metadata": {},
   "outputs": [],
   "source": [
    "accidents_cyclistes_base = accidents_cyclistes.drop_duplicates('Accident_Id',keep='first').iloc[:,0:16]\n",
    "accidents_cyclistes_vehicules = accidents_cyclistes.iloc[:,16:]"
   ]
  },
  {
   "cell_type": "markdown",
   "metadata": {},
   "source": [
    "LE PIVOT DES VEHICULES POUR CHAQUE SOUS-GROUPE"
   ]
  },
  {
   "cell_type": "code",
   "execution_count": 15,
   "metadata": {},
   "outputs": [],
   "source": [
    "df = accidents_mobilites_douces_vehicules\n",
    "df=df.sort_values(['Num_Acc','Catégorie_véhicule',\"catégorie_usager\"],ascending=True)\n",
    "\n",
    "# Ajouter un index par groupe ID\n",
    "df['row'] = df.groupby('Num_Acc').cumcount() + 1\n",
    "\n",
    "# Transformer les lignes en colonnes\n",
    "df_pivot_md = df.pivot(index='Num_Acc', columns='row', values=['Catégorie_véhicule','catégorie_usager', 'gravité_blessure', 'sexe', 'année_naissance', 'motif_trajet', 'équipement_sécu1'])\n",
    "\n",
    "# Aplatir l'index des colonnes\n",
    "df_pivot_md.columns = [f\"{col[0]}{col[1]}\" for col in df_pivot_md.columns]\n",
    "\n",
    "# Réinitialiser l'index\n",
    "df_pivot_md.reset_index(inplace=True)\n"
   ]
  },
  {
   "cell_type": "code",
   "execution_count": 16,
   "metadata": {},
   "outputs": [],
   "source": [
    "df_pivot_md=df_pivot_md.rename(columns={\"Num_Acc\":'Accident_Id'})"
   ]
  },
  {
   "cell_type": "code",
   "execution_count": 17,
   "metadata": {},
   "outputs": [],
   "source": [
    "df = accidents_cyclistes_vehicules\n",
    "df=df.sort_values(['Num_Acc','Catégorie_véhicule',\"catégorie_usager\"],ascending=True)\n",
    "# Ajouter un index par groupe ID\n",
    "df['row'] = df.groupby('Num_Acc').cumcount() + 1\n",
    "\n",
    "# Transformer les lignes en colonnes\n",
    "df_pivot_c = df.pivot(index='Num_Acc', columns='row', values=['catégorie_usager', 'gravité_blessure', 'sexe', 'année_naissance', 'motif_trajet', 'équipement_sécu1'])\n",
    "\n",
    "# Aplatir l'index des colonnes\n",
    "df_pivot_c.columns = [f\"{col[0]}{col[1]}\" for col in df_pivot_c.columns]\n",
    "\n",
    "# Réinitialiser l'index\n",
    "df_pivot_c.reset_index(inplace=True)"
   ]
  },
  {
   "cell_type": "code",
   "execution_count": 18,
   "metadata": {},
   "outputs": [],
   "source": [
    "df_pivot_c=df_pivot_c.rename(columns={\"Num_Acc\":'Accident_Id'})"
   ]
  },
  {
   "cell_type": "code",
   "execution_count": 19,
   "metadata": {},
   "outputs": [],
   "source": [
    "df = accidents_piétons_vehicules\n",
    "df=df.sort_values(['Num_Acc','Catégorie_véhicule',\"catégorie_usager\"],ascending=True)\n",
    "# Ajouter un index par groupe ID\n",
    "df['row'] = df.groupby('Num_Acc').cumcount() + 1\n",
    "\n",
    "# Transformer les lignes en colonnes\n",
    "df_pivot_p = df.pivot(index='Num_Acc', columns='row', values=['Catégorie_véhicule','Catégorie_véhicule','catégorie_usager', 'gravité_blessure', 'sexe', 'année_naissance', 'motif_trajet', 'équipement_sécu1'])\n",
    "\n",
    "# Aplatir l'index des colonnes\n",
    "df_pivot_p.columns = [f\"{col[0]}{col[1]}\" for col in df_pivot_p.columns]\n",
    "\n",
    "# Réinitialiser l'index\n",
    "df_pivot_p.reset_index(inplace=True)"
   ]
  },
  {
   "cell_type": "code",
   "execution_count": 20,
   "metadata": {},
   "outputs": [],
   "source": [
    "df_pivot_p=df_pivot_p.rename(columns={\"Num_Acc\":'Accident_Id'})"
   ]
  },
  {
   "cell_type": "markdown",
   "metadata": {},
   "source": [
    "ON FUSIONNE AVEC LA TABLE DE BASE"
   ]
  },
  {
   "cell_type": "code",
   "execution_count": 21,
   "metadata": {},
   "outputs": [],
   "source": [
    "accidents_mobilites_douces_pivot = df_pivot_md.merge(accidents_mobilites_douces_base,on=['Accident_Id'])\n",
    "accidents_piétons_pivot = df_pivot_p.merge(accidents_piétons_base,on=['Accident_Id'])\n",
    "accidents_cyclistes_pivot = df_pivot_c.merge(accidents_cyclistes_base,on=['Accident_Id'])"
   ]
  },
  {
   "cell_type": "code",
   "execution_count": 22,
   "metadata": {},
   "outputs": [],
   "source": [
    "accidents_mobilites_douces_pivot.to_csv(\"exp/accidents_mobilite_douce_pivot_avec_carac.csv\", index=False)\n",
    "accidents_piétons_pivot.to_csv(\"exp/accidents_piétons_pivot_avec_carac.csv\", index=False)\n",
    "accidents_cyclistes_pivot.to_csv(\"exp/accidents_cyclistes_pivot_avec_carac.csv\", index=False)"
   ]
  }
 ],
 "metadata": {
  "kernelspec": {
   "display_name": "base",
   "language": "python",
   "name": "python3"
  },
  "language_info": {
   "codemirror_mode": {
    "name": "ipython",
    "version": 3
   },
   "file_extension": ".py",
   "mimetype": "text/x-python",
   "name": "python",
   "nbconvert_exporter": "python",
   "pygments_lexer": "ipython3",
   "version": "3.12.4"
  }
 },
 "nbformat": 4,
 "nbformat_minor": 2
}
