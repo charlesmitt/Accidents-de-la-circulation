{
 "cells": [
  {
   "cell_type": "code",
   "execution_count": 2,
   "metadata": {},
   "outputs": [],
   "source": [
    "import pandas as pd\n",
    "\n",
    "df_usagers = pd.read_csv(\"cleaned_files/usagers_clean.csv\", sep=\";\", dtype=str)\n",
    "df_vehicules= pd.read_csv(\"cleaned_files/véhicules_clean.csv\", sep=\";\",dtype=str)\n",
    "df_caracteristiques = pd.read_csv(\"cleaned_files/caractéristiques_clean.csv\", sep=\";\", dtype=str)\n",
    "df_lieux = pd.read_csv(\"csv/lieux_apres_pivot.csv\", sep=\";\", dtype=str)"
   ]
  },
  {
   "cell_type": "code",
   "execution_count": 3,
   "metadata": {},
   "outputs": [],
   "source": [
    "\n",
    "df = df_usagers.merge(df_vehicules,on=['Accident_Id','Numéro du véhicule'])"
   ]
  },
  {
   "cell_type": "code",
   "execution_count": 4,
   "metadata": {},
   "outputs": [
    {
     "data": {
      "text/plain": [
       "(620105, 25)"
      ]
     },
     "execution_count": 4,
     "metadata": {},
     "output_type": "execute_result"
    }
   ],
   "source": [
    "df.shape"
   ]
  },
  {
   "cell_type": "markdown",
   "metadata": {},
   "source": [
    "ACCIDENTS QUI IMPLIQUENT DES PIETONS\n"
   ]
  },
  {
   "cell_type": "code",
   "execution_count": 5,
   "metadata": {},
   "outputs": [],
   "source": [
    "catu = [\"3 - Piéton\"]\n",
    "\n",
    "# Filter DataFrame by list of user\n",
    "filtered_df = df[df['Catégorie usager'].isin(catu)]\n",
    "\n",
    "s_acc = filtered_df[\"Accident_Id\"]\n",
    "\n",
    "list_acc = s_acc.to_list()\n",
    "\n",
    "accidents_piétons = df[df['Accident_Id'].isin(list_acc)]\n",
    "#print(filtered_acc_df)"
   ]
  },
  {
   "cell_type": "code",
   "execution_count": 6,
   "metadata": {},
   "outputs": [
    {
     "data": {
      "text/plain": [
       "(95845, 25)"
      ]
     },
     "execution_count": 6,
     "metadata": {},
     "output_type": "execute_result"
    }
   ],
   "source": [
    "accidents_piétons.shape"
   ]
  },
  {
   "cell_type": "markdown",
   "metadata": {},
   "source": [
    "LE PIVOT"
   ]
  },
  {
   "cell_type": "code",
   "execution_count": 7,
   "metadata": {},
   "outputs": [],
   "source": [
    "df = accidents_piétons\n",
    "df=df.sort_values(['Accident_Id','Catégorie du véhicule',\"Catégorie usager\"],ascending=True)\n",
    "\n",
    "# Ajouter un index par groupe ID\n",
    "df['row'] = df.groupby('Accident_Id').cumcount() + 1\n",
    "\n",
    "# Transformer les lignes en colonnes\n",
    "df_pivot_md = df.pivot(index='Accident_Id', columns='row', values=['Catégorie du véhicule','Catégorie usager', 'Gravité des blessures', 'Sexe', 'Année de naissance', 'Motif du déplacement', 'Equipement de sécurité 1'])\n",
    "\n",
    "# Aplatir l'index des colonnes\n",
    "df_pivot_md.columns = [f\"{col[0]}{col[1]}\" for col in df_pivot_md.columns]\n",
    "\n",
    "# Réinitialiser l'index\n",
    "df_pivot_md.reset_index(inplace=True)"
   ]
  },
  {
   "cell_type": "code",
   "execution_count": 8,
   "metadata": {},
   "outputs": [],
   "source": [
    "accident = df_caracteristiques.merge(df_lieux,on = 'Accident_Id')\n",
    "df_complete = df_pivot_md.merge(accident,on='Accident_Id')"
   ]
  },
  {
   "cell_type": "code",
   "execution_count": 9,
   "metadata": {},
   "outputs": [],
   "source": [
    "df_complete.to_csv('datasets/table_complete_accidents_piétons_avec_pivot_véhicules.csv',sep=\";\",index=False)"
   ]
  }
 ],
 "metadata": {
  "kernelspec": {
   "display_name": "base",
   "language": "python",
   "name": "python3"
  },
  "language_info": {
   "codemirror_mode": {
    "name": "ipython",
    "version": 3
   },
   "file_extension": ".py",
   "mimetype": "text/x-python",
   "name": "python",
   "nbconvert_exporter": "python",
   "pygments_lexer": "ipython3",
   "version": "3.12.4"
  }
 },
 "nbformat": 4,
 "nbformat_minor": 2
}
