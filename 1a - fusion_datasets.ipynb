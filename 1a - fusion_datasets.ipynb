{
 "cells": [
  {
   "cell_type": "code",
   "execution_count": 2,
   "metadata": {},
   "outputs": [],
   "source": [
    "import pandas as pd\n",
    "import os\n",
    "\n",
    "# STACK DES LIEUX\n",
    "\n",
    "file_path = 'Fichiers de base - Accidents de la route/lieux'\n",
    "file_list = os.listdir(file_path)\n",
    "df_append = pd.DataFrame()\n",
    "df_concat = pd.concat([pd.read_csv(file_path+\"/\"+f, sep=\";\", dtype=str) for f in file_list], ignore_index=True)\n",
    "df_concat.to_csv('stacked_files/lieux_stacked_python.csv', sep=';',index=False)\n",
    "\n",
    "# STACK DES CARACTERISTIQUES\n",
    "\n",
    "file_path = 'Fichiers de base - Accidents de la route/caracteristiques'\n",
    "file_list = os.listdir(file_path)\n",
    "df_append = pd.DataFrame()\n",
    "df_concat = pd.concat([pd.read_csv(file_path+\"/\"+f, sep=\";\", dtype=str) for f in file_list], ignore_index=True)\n",
    "df_concat.to_csv('stacked_files/caracteristiques_stacked_python.csv', sep=';',index=False)\n",
    "\n",
    "# STACK DES USAGERS\n",
    "\n",
    "file_path = 'Fichiers de base - Accidents de la route/usagers'\n",
    "file_list = os.listdir(file_path)\n",
    "df_append = pd.DataFrame()\n",
    "df_concat = pd.concat([pd.read_csv(file_path+\"/\"+f, sep=\";\", dtype=str) for f in file_list], ignore_index=True)\n",
    "df_concat.to_csv('stacked_files/usagers_stacked_python.csv', sep=';',index=False)\n",
    "\n",
    "# STACK DES USAGERS\n",
    "\n",
    "file_path = 'Fichiers de base - Accidents de la route/vehicules'\n",
    "file_list = os.listdir(file_path)\n",
    "df_append = pd.DataFrame()\n",
    "df_concat = pd.concat([pd.read_csv(file_path+\"/\"+f, sep=\";\", dtype=str) for f in file_list], ignore_index=True)\n",
    "df_concat.to_csv('stacked_files/vehicules_stacked_python.csv', sep=';',index=False)"
   ]
  }
 ],
 "metadata": {
  "kernelspec": {
   "display_name": "base",
   "language": "python",
   "name": "python3"
  },
  "language_info": {
   "codemirror_mode": {
    "name": "ipython",
    "version": 3
   },
   "file_extension": ".py",
   "mimetype": "text/x-python",
   "name": "python",
   "nbconvert_exporter": "python",
   "pygments_lexer": "ipython3",
   "version": "3.12.4"
  }
 },
 "nbformat": 4,
 "nbformat_minor": 2
}
