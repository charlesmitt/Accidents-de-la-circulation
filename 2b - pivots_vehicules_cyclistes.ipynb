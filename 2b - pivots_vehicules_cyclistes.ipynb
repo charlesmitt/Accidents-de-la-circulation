{
 "cells": [
  {
   "cell_type": "code",
   "execution_count": 1,
   "metadata": {},
   "outputs": [],
   "source": [
    "import pandas as pd\n",
    "\n",
    "df_usagers = pd.read_csv(\"cleaned_files/usagers_clean.csv\", sep=\";\", dtype=str)\n",
    "df_vehicules= pd.read_csv(\"cleaned_files/véhicules_clean.csv\", sep=\";\",dtype=str)\n",
    "df_caracteristiques = pd.read_csv(\"cleaned_files/caractéristiques_clean.csv\", sep=\";\", dtype=str)\n",
    "df_lieux = pd.read_csv(\"csv/lieux_apres_pivot.csv\", sep=\";\", dtype=str)"
   ]
  },
  {
   "cell_type": "code",
   "execution_count": 2,
   "metadata": {},
   "outputs": [],
   "source": [
    "\n",
    "df = df_usagers.merge(df_vehicules,on=['Accident_Id','Numéro du véhicule'])"
   ]
  },
  {
   "cell_type": "code",
   "execution_count": 10,
   "metadata": {},
   "outputs": [
    {
     "data": {
      "text/plain": [
       "(620105, 25)"
      ]
     },
     "execution_count": 10,
     "metadata": {},
     "output_type": "execute_result"
    }
   ],
   "source": [
    "df.shape"
   ]
  },
  {
   "cell_type": "markdown",
   "metadata": {},
   "source": [
    "VELOS ET VAE (LES CYCLISTES, N'INCLUT PAS LES PIETONS HEURTES PAR DES VELOS)"
   ]
  },
  {
   "cell_type": "code",
   "execution_count": 12,
   "metadata": {},
   "outputs": [],
   "source": [
    "catv = [\"01 - Bicyclette\", \"80 - VAE\"]\n",
    "\n",
    "# Filter DataFrame by list of user\n",
    "\n",
    "filtered_df = df[df['Catégorie du véhicule'].isin(catv) & df['Catégorie usager'].isin([\"1 - Conducteur\"])]\n",
    "\n",
    "s_acc = filtered_df[\"Accident_Id\"]\n",
    "\n",
    "list_acc = s_acc.to_list()\n",
    "\n",
    "accidents_cyclistes = df[df['Accident_Id'].isin(list_acc)]\n",
    "#print(filtered_acc_df)"
   ]
  },
  {
   "cell_type": "code",
   "execution_count": 13,
   "metadata": {},
   "outputs": [
    {
     "data": {
      "text/plain": [
       "(53787, 25)"
      ]
     },
     "execution_count": 13,
     "metadata": {},
     "output_type": "execute_result"
    }
   ],
   "source": [
    "accidents_cyclistes.shape"
   ]
  },
  {
   "cell_type": "code",
   "execution_count": 14,
   "metadata": {},
   "outputs": [],
   "source": [
    "accidents_cyclistes.to_csv(\"csv/accidents_cyclistes_sans_pivot.csv\", index=False)"
   ]
  },
  {
   "cell_type": "markdown",
   "metadata": {},
   "source": [
    "ON FAIT LE PIVOT\n"
   ]
  },
  {
   "cell_type": "code",
   "execution_count": 15,
   "metadata": {},
   "outputs": [],
   "source": [
    "df = accidents_cyclistes\n",
    "df=df.sort_values(['Accident_Id','Catégorie du véhicule',\"Catégorie usager\"],ascending=True)\n",
    "\n",
    "# Ajouter un index par groupe ID\n",
    "df['row'] = df.groupby('Accident_Id').cumcount() + 1\n",
    "\n",
    "# Transformer les lignes en colonnes\n",
    "df_pivot_md = df.pivot(index='Accident_Id', columns='row', values=['Catégorie du véhicule','Catégorie usager', 'Gravité des blessures', 'Sexe', 'Année de naissance', 'Motif du déplacement', 'Equipement de sécurité 1'])\n",
    "\n",
    "# Aplatir l'index des colonnes\n",
    "df_pivot_md.columns = [f\"{col[0]}{col[1]}\" for col in df_pivot_md.columns]\n",
    "\n",
    "# Réinitialiser l'index\n",
    "df_pivot_md.reset_index(inplace=True)"
   ]
  },
  {
   "cell_type": "code",
   "execution_count": 16,
   "metadata": {},
   "outputs": [],
   "source": [
    "accident = df_caracteristiques.merge(df_lieux,on = 'Accident_Id')\n",
    "df_complete = df_pivot_md.merge(accident,on='Accident_Id')"
   ]
  },
  {
   "cell_type": "markdown",
   "metadata": {},
   "source": [
    "SAUVEGARDE DU DATASET EN CSV"
   ]
  },
  {
   "cell_type": "code",
   "execution_count": 17,
   "metadata": {},
   "outputs": [],
   "source": [
    "df_complete.to_csv('datasets/table_complete_accidents_cyclistes_avec_pivot_véhicules.csv',sep=\";\",index=False)"
   ]
  }
 ],
 "metadata": {
  "kernelspec": {
   "display_name": "base",
   "language": "python",
   "name": "python3"
  },
  "language_info": {
   "codemirror_mode": {
    "name": "ipython",
    "version": 3
   },
   "file_extension": ".py",
   "mimetype": "text/x-python",
   "name": "python",
   "nbconvert_exporter": "python",
   "pygments_lexer": "ipython3",
   "version": "3.12.4"
  }
 },
 "nbformat": 4,
 "nbformat_minor": 2
}
